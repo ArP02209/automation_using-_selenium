{
 "cells": [
  {
   "cell_type": "code",
   "execution_count": 105,
   "metadata": {},
   "outputs": [
    {
     "name": "stdout",
     "output_type": "stream",
     "text": [
      "money hesit\n",
      "ALL DETAILS:\n",
      "UNLIMITED TV SHOWS & MOVIES\n",
      "JOIN NOW\n",
      "SIGN IN\n",
      "Starring:Úrsula Corberó,Álvaro Morte,Itziar Ituño\n",
      "Creators:Álex Pina\n",
      "Watch all you want.\n",
      "JOIN NOW\n",
      "This riveting crime series won Best Drama at the International Emmy Awards, Premios Fénix and Premios Iris (plus six more Iris wins).\n",
      "VideosMoney Heist\n",
      "Part 5 Trailer: Money Heist\n",
      "Part 4 Trailer: Money Heist\n",
      "Money Heist: Part 3 (Trailer)\n",
      "Money Heist: Part 2 (Trailer)\n",
      "Money Heist (Trailer)\n",
      "Part 5 Volume 2 Trailer: Money Heist\n",
      "Part 4 Recap: Money Heist\n",
      "Part 3 Recap: Money Heist\n",
      "Money Heist: Part 1 & 2 (Recap)\n",
      "Money Heist: Part 1 (Recap)\n",
      "Part 5 Volume 2 Teaser: Money Heist\n",
      "Part 1\n",
      "Part 2\n",
      "Part 3\n",
      "Part 4\n",
      "Part 5\n",
      "English\n",
      "हिन्दी\n",
      "Part 5 Trailer: Money Heist\n"
     ]
    }
   ],
   "source": [
    "#Before going forward we first need to install selenium package and chromedriver having same version as your chrome browser\n",
    "\n",
    "from selenium import webdriver  \n",
    "import time  \n",
    "from selenium.webdriver.common.keys import Keys\n",
    "from selenium.webdriver.common.by import By\n",
    "\n",
    "#Taking user input as name of trailer of web series/movies\n",
    "trailer= input()\n",
    "\n",
    "#Loading chromedriver \n",
    "driver = webdriver.Chrome()\n",
    "driver.maximize_window()\n",
    "\n",
    "#Go to google.com\n",
    "driver.get(\"https://www.google.com/\")\n",
    "time.sleep(3)\n",
    "\n",
    "#Finding google search box and sending the name of trailer as input\n",
    "driver.find_element(By.NAME, \"q\").send_keys(trailer + Keys.RETURN)\n",
    "\n",
    "#driver.find_element(By.XPATH,\"/html/body/div[7]/div/div[11]/div[2]/div[2]/div[2]/div/div/div/div/div/div/div/div[1]/div/div/div/div/div[3]/div[3]/div/div/div/div/div/div/div/div[1]/div/a/h3\").send_keys(Keys.RETURN)\n",
    "#Finding the link of trailer having keyword Netflix and go to that link\n",
    "driver.find_element(By.PARTIAL_LINK_TEXT,\" Netflix Official Site\").click()\n",
    "\n",
    "#Play trailer using its Xpath\n",
    "driver.find_element(By.XPATH,\"//*[@id='section-additional-videos']/div[2]/ul/li[1]/div/button/span[2]\").click()\n",
    "\n",
    "#print(driver.find_element(By.XPATH,\"/html/body/div[1]/div/div[2]/section[1]/div[1]/div[1]/div[2]/div/div[2]/div[1]\").text)\n",
    "\n",
    "descript=driver.find_element(By.XPATH, \"/html/body\").text\n",
    "\n",
    "print(\"ALL DETAILS:\\n\"+ descript)"
   ]
  },
  {
   "cell_type": "code",
   "execution_count": 102,
   "metadata": {},
   "outputs": [
    {
     "name": "stdout",
     "output_type": "stream",
     "text": [
      "Watch Stranger Things | Netflix Official Site\n"
     ]
    }
   ],
   "source": [
    "print(driver.title)"
   ]
  },
  {
   "cell_type": "code",
   "execution_count": 16,
   "metadata": {},
   "outputs": [
    {
     "data": {
      "text/plain": [
       "<selenium.webdriver.chrome.webdriver.WebDriver (session=\"51632a57962684669369e73a16aec64f\")>"
      ]
     },
     "execution_count": 16,
     "metadata": {},
     "output_type": "execute_result"
    }
   ],
   "source": [
    "driver"
   ]
  },
  {
   "cell_type": "code",
   "execution_count": null,
   "metadata": {},
   "outputs": [],
   "source": []
  }
 ],
 "metadata": {
  "kernelspec": {
   "display_name": "Python 3",
   "language": "python",
   "name": "python3"
  },
  "language_info": {
   "codemirror_mode": {
    "name": "ipython",
    "version": 3
   },
   "file_extension": ".py",
   "mimetype": "text/x-python",
   "name": "python",
   "nbconvert_exporter": "python",
   "pygments_lexer": "ipython3",
   "version": "3.8.3"
  }
 },
 "nbformat": 4,
 "nbformat_minor": 4
}
